{
  "nbformat": 4,
  "nbformat_minor": 0,
  "metadata": {
    "colab": {
      "name": "optimization",
      "provenance": [],
      "authorship_tag": "ABX9TyMjGK3KOgSiF6YPwH3TH9Rn",
      "include_colab_link": true
    },
    "kernelspec": {
      "name": "python3",
      "display_name": "Python 3"
    }
  },
  "cells": [
    {
      "cell_type": "markdown",
      "metadata": {
        "id": "view-in-github",
        "colab_type": "text"
      },
      "source": [
        "<a href=\"https://colab.research.google.com/github/tariqmassaoudi/ONIVIA/blob/main/optimization.ipynb\" target=\"_parent\"><img src=\"https://colab.research.google.com/assets/colab-badge.svg\" alt=\"Open In Colab\"/></a>"
      ]
    },
    {
      "cell_type": "code",
      "metadata": {
        "id": "BMVECedvgTZC"
      },
      "source": [
        "import pandas as pd\r\n",
        "import numpy as np\r\n"
      ],
      "execution_count": 120,
      "outputs": []
    },
    {
      "cell_type": "code",
      "metadata": {
        "id": "TUipZaYOgZlS"
      },
      "source": [
        "df=pd.read_csv('/content/sample_data/dataopti.csv')"
      ],
      "execution_count": 122,
      "outputs": []
    },
    {
      "cell_type": "code",
      "metadata": {
        "colab": {
          "base_uri": "https://localhost:8080/",
          "height": 204
        },
        "id": "ov62tg5ygtud",
        "outputId": "6cef55e3-37d5-4719-e505-ec5b06fb6d0f"
      },
      "source": [
        "df.head()"
      ],
      "execution_count": 123,
      "outputs": [
        {
          "output_type": "execute_result",
          "data": {
            "text/html": [
              "<div>\n",
              "<style scoped>\n",
              "    .dataframe tbody tr th:only-of-type {\n",
              "        vertical-align: middle;\n",
              "    }\n",
              "\n",
              "    .dataframe tbody tr th {\n",
              "        vertical-align: top;\n",
              "    }\n",
              "\n",
              "    .dataframe thead th {\n",
              "        text-align: right;\n",
              "    }\n",
              "</style>\n",
              "<table border=\"1\" class=\"dataframe\">\n",
              "  <thead>\n",
              "    <tr style=\"text-align: right;\">\n",
              "      <th></th>\n",
              "      <th>farmer</th>\n",
              "      <th>Besoin</th>\n",
              "      <th>risk</th>\n",
              "    </tr>\n",
              "  </thead>\n",
              "  <tbody>\n",
              "    <tr>\n",
              "      <th>0</th>\n",
              "      <td>1</td>\n",
              "      <td>200</td>\n",
              "      <td>0.0000</td>\n",
              "    </tr>\n",
              "    <tr>\n",
              "      <th>1</th>\n",
              "      <td>2</td>\n",
              "      <td>300</td>\n",
              "      <td>0.0025</td>\n",
              "    </tr>\n",
              "    <tr>\n",
              "      <th>2</th>\n",
              "      <td>3</td>\n",
              "      <td>100</td>\n",
              "      <td>0.0050</td>\n",
              "    </tr>\n",
              "    <tr>\n",
              "      <th>3</th>\n",
              "      <td>4</td>\n",
              "      <td>150</td>\n",
              "      <td>0.0075</td>\n",
              "    </tr>\n",
              "    <tr>\n",
              "      <th>4</th>\n",
              "      <td>5</td>\n",
              "      <td>150</td>\n",
              "      <td>0.0100</td>\n",
              "    </tr>\n",
              "  </tbody>\n",
              "</table>\n",
              "</div>"
            ],
            "text/plain": [
              "   farmer  Besoin    risk\n",
              "0       1     200  0.0000\n",
              "1       2     300  0.0025\n",
              "2       3     100  0.0050\n",
              "3       4     150  0.0075\n",
              "4       5     150  0.0100"
            ]
          },
          "metadata": {
            "tags": []
          },
          "execution_count": 123
        }
      ]
    },
    {
      "cell_type": "code",
      "metadata": {
        "colab": {
          "base_uri": "https://localhost:8080/"
        },
        "id": "Xim-l8hMi1CW",
        "outputId": "ceda22bd-9243-447f-fde7-ef1e49671c2c"
      },
      "source": [
        "pip install -U \"scipy==1.4.*\" \"pulp==2.1\"\r\n"
      ],
      "execution_count": 124,
      "outputs": [
        {
          "output_type": "stream",
          "text": [
            "Requirement already up-to-date: scipy==1.4.* in /usr/local/lib/python3.6/dist-packages (1.4.1)\n",
            "Requirement already up-to-date: pulp==2.1 in /usr/local/lib/python3.6/dist-packages (2.1)\n",
            "Requirement already satisfied, skipping upgrade: numpy>=1.13.3 in /usr/local/lib/python3.6/dist-packages (from scipy==1.4.*) (1.19.5)\n",
            "Requirement already satisfied, skipping upgrade: pyparsing>=2.0.1 in /usr/local/lib/python3.6/dist-packages (from pulp==2.1) (2.4.7)\n"
          ],
          "name": "stdout"
        }
      ]
    },
    {
      "cell_type": "code",
      "metadata": {
        "id": "O0FdZxWTx_lD"
      },
      "source": [
        "from pulp import LpMinimize, LpProblem, LpStatus, lpSum, LpVariable, LpAffineExpression"
      ],
      "execution_count": 125,
      "outputs": []
    },
    {
      "cell_type": "code",
      "metadata": {
        "id": "TkcvTTc6xxLI"
      },
      "source": [
        "#define parameters \r\n",
        "ls = df.Besoin.to_list() #loan size\r\n",
        "T = df.risk.to_list() #risk rate\r\n",
        "S = 2500 #budget\r\n",
        "\r\n",
        "# Create the model\r\n",
        "model = LpProblem(name=\"credit-problem\", sense=LpMinimize)\r\n",
        "\r\n",
        "# Initialize the decision variables: x is integer, y is continuous\r\n",
        "y = [LpVariable(name=f\"{i}\", cat=\"Binary\") for i in range(len(df))]\r\n",
        "\r\n",
        "# Add the constraints to the model\r\n",
        "model += (LpAffineExpression([(y[i],ls[i])for i in range (len(df))]) == S)\r\n",
        "model += (LpAffineExpression([(y[i],ls[i])for i in range (len(df))]) >= 0.8*S)\r\n",
        "\r\n",
        "# Add the objective function to the model\r\n",
        "Tls = [T[i]*ls[i] for i in range(len(df))]\r\n",
        "model += LpAffineExpression([(y[i],Tls[i]) for i in range(len(df))])\r\n",
        "\r\n",
        "# Solve the problem\r\n",
        "status = model.solve()"
      ],
      "execution_count": 132,
      "outputs": []
    },
    {
      "cell_type": "code",
      "metadata": {
        "colab": {
          "base_uri": "https://localhost:8080/"
        },
        "id": "Vj9YUcgx7W8N",
        "outputId": "d768d023-355a-49cc-f0ed-70abbd7071f8"
      },
      "source": [
        "model.variables()"
      ],
      "execution_count": 133,
      "outputs": [
        {
          "output_type": "execute_result",
          "data": {
            "text/plain": [
              "[0, 1, 10, 11, 12, 13, 14, 15, 16, 17, 18, 19, 2, 20, 3, 4, 5, 6, 7, 8, 9]"
            ]
          },
          "metadata": {
            "tags": []
          },
          "execution_count": 133
        }
      ]
    },
    {
      "cell_type": "code",
      "metadata": {
        "colab": {
          "base_uri": "https://localhost:8080/"
        },
        "id": "C2Cx9NaF6BuM",
        "outputId": "a382bbfc-61a3-4a7a-c1f3-e6a3dfa5b687"
      },
      "source": [
        "for var in model.variables():\r\n",
        "    print(f\"{var.name}: {var.value()}\")\r\n"
      ],
      "execution_count": 134,
      "outputs": [
        {
          "output_type": "stream",
          "text": [
            "0: 1.0\n",
            "1: 1.0\n",
            "10: 0.0\n",
            "11: 1.0\n",
            "12: 1.0\n",
            "13: 0.0\n",
            "14: 1.0\n",
            "15: 0.0\n",
            "16: 0.0\n",
            "17: 0.0\n",
            "18: 0.0\n",
            "19: 0.0\n",
            "2: 1.0\n",
            "20: 0.0\n",
            "3: 1.0\n",
            "4: 1.0\n",
            "5: 1.0\n",
            "6: 1.0\n",
            "7: 1.0\n",
            "8: 1.0\n",
            "9: 1.0\n"
          ],
          "name": "stdout"
        }
      ]
    },
    {
      "cell_type": "code",
      "metadata": {
        "colab": {
          "base_uri": "https://localhost:8080/",
          "height": 700
        },
        "id": "Sz8WtSgCCFn4",
        "outputId": "fa1374d4-679b-4308-8093-037b38ca0cc5"
      },
      "source": [
        "#create results' dictionnary\r\n",
        "dict={}\r\n",
        "for var in model.variables():\r\n",
        "  dict[var.name] = var.value()\r\n",
        "\r\n",
        "#convert the dictionnary into a dataset\r\n",
        "results=pd.DataFrame(dict.items(),columns=['ID','decision'])\r\n",
        "\r\n",
        "#sort and match index/value\r\n",
        "results.ID = pd.to_numeric(results.ID)\r\n",
        "results.set_index('ID', inplace=True)\r\n",
        "results = results.sort_index()\r\n",
        "\r\n",
        "#concat df with results into final decisions ( same results in excel)\r\n",
        "data = pd.concat([df, results], axis=1)\r\n",
        "data"
      ],
      "execution_count": 135,
      "outputs": [
        {
          "output_type": "execute_result",
          "data": {
            "text/html": [
              "<div>\n",
              "<style scoped>\n",
              "    .dataframe tbody tr th:only-of-type {\n",
              "        vertical-align: middle;\n",
              "    }\n",
              "\n",
              "    .dataframe tbody tr th {\n",
              "        vertical-align: top;\n",
              "    }\n",
              "\n",
              "    .dataframe thead th {\n",
              "        text-align: right;\n",
              "    }\n",
              "</style>\n",
              "<table border=\"1\" class=\"dataframe\">\n",
              "  <thead>\n",
              "    <tr style=\"text-align: right;\">\n",
              "      <th></th>\n",
              "      <th>farmer</th>\n",
              "      <th>Besoin</th>\n",
              "      <th>risk</th>\n",
              "      <th>decision</th>\n",
              "    </tr>\n",
              "  </thead>\n",
              "  <tbody>\n",
              "    <tr>\n",
              "      <th>0</th>\n",
              "      <td>1</td>\n",
              "      <td>200</td>\n",
              "      <td>0.0000</td>\n",
              "      <td>1.0</td>\n",
              "    </tr>\n",
              "    <tr>\n",
              "      <th>1</th>\n",
              "      <td>2</td>\n",
              "      <td>300</td>\n",
              "      <td>0.0025</td>\n",
              "      <td>1.0</td>\n",
              "    </tr>\n",
              "    <tr>\n",
              "      <th>2</th>\n",
              "      <td>3</td>\n",
              "      <td>100</td>\n",
              "      <td>0.0050</td>\n",
              "      <td>1.0</td>\n",
              "    </tr>\n",
              "    <tr>\n",
              "      <th>3</th>\n",
              "      <td>4</td>\n",
              "      <td>150</td>\n",
              "      <td>0.0075</td>\n",
              "      <td>1.0</td>\n",
              "    </tr>\n",
              "    <tr>\n",
              "      <th>4</th>\n",
              "      <td>5</td>\n",
              "      <td>150</td>\n",
              "      <td>0.0100</td>\n",
              "      <td>1.0</td>\n",
              "    </tr>\n",
              "    <tr>\n",
              "      <th>5</th>\n",
              "      <td>6</td>\n",
              "      <td>100</td>\n",
              "      <td>0.0125</td>\n",
              "      <td>1.0</td>\n",
              "    </tr>\n",
              "    <tr>\n",
              "      <th>6</th>\n",
              "      <td>7</td>\n",
              "      <td>200</td>\n",
              "      <td>0.0150</td>\n",
              "      <td>1.0</td>\n",
              "    </tr>\n",
              "    <tr>\n",
              "      <th>7</th>\n",
              "      <td>8</td>\n",
              "      <td>200</td>\n",
              "      <td>0.0175</td>\n",
              "      <td>1.0</td>\n",
              "    </tr>\n",
              "    <tr>\n",
              "      <th>8</th>\n",
              "      <td>9</td>\n",
              "      <td>200</td>\n",
              "      <td>0.0200</td>\n",
              "      <td>1.0</td>\n",
              "    </tr>\n",
              "    <tr>\n",
              "      <th>9</th>\n",
              "      <td>10</td>\n",
              "      <td>300</td>\n",
              "      <td>0.0225</td>\n",
              "      <td>1.0</td>\n",
              "    </tr>\n",
              "    <tr>\n",
              "      <th>10</th>\n",
              "      <td>11</td>\n",
              "      <td>150</td>\n",
              "      <td>0.0250</td>\n",
              "      <td>0.0</td>\n",
              "    </tr>\n",
              "    <tr>\n",
              "      <th>11</th>\n",
              "      <td>12</td>\n",
              "      <td>300</td>\n",
              "      <td>0.0275</td>\n",
              "      <td>1.0</td>\n",
              "    </tr>\n",
              "    <tr>\n",
              "      <th>12</th>\n",
              "      <td>13</td>\n",
              "      <td>100</td>\n",
              "      <td>0.0300</td>\n",
              "      <td>1.0</td>\n",
              "    </tr>\n",
              "    <tr>\n",
              "      <th>13</th>\n",
              "      <td>14</td>\n",
              "      <td>100</td>\n",
              "      <td>0.0325</td>\n",
              "      <td>0.0</td>\n",
              "    </tr>\n",
              "    <tr>\n",
              "      <th>14</th>\n",
              "      <td>15</td>\n",
              "      <td>200</td>\n",
              "      <td>0.0350</td>\n",
              "      <td>1.0</td>\n",
              "    </tr>\n",
              "    <tr>\n",
              "      <th>15</th>\n",
              "      <td>16</td>\n",
              "      <td>300</td>\n",
              "      <td>0.0375</td>\n",
              "      <td>0.0</td>\n",
              "    </tr>\n",
              "    <tr>\n",
              "      <th>16</th>\n",
              "      <td>17</td>\n",
              "      <td>200</td>\n",
              "      <td>0.0400</td>\n",
              "      <td>0.0</td>\n",
              "    </tr>\n",
              "    <tr>\n",
              "      <th>17</th>\n",
              "      <td>18</td>\n",
              "      <td>150</td>\n",
              "      <td>0.0425</td>\n",
              "      <td>0.0</td>\n",
              "    </tr>\n",
              "    <tr>\n",
              "      <th>18</th>\n",
              "      <td>19</td>\n",
              "      <td>150</td>\n",
              "      <td>0.0450</td>\n",
              "      <td>0.0</td>\n",
              "    </tr>\n",
              "    <tr>\n",
              "      <th>19</th>\n",
              "      <td>20</td>\n",
              "      <td>150</td>\n",
              "      <td>0.0475</td>\n",
              "      <td>0.0</td>\n",
              "    </tr>\n",
              "    <tr>\n",
              "      <th>20</th>\n",
              "      <td>21</td>\n",
              "      <td>100</td>\n",
              "      <td>0.0500</td>\n",
              "      <td>0.0</td>\n",
              "    </tr>\n",
              "  </tbody>\n",
              "</table>\n",
              "</div>"
            ],
            "text/plain": [
              "    farmer  Besoin    risk  decision\n",
              "0        1     200  0.0000       1.0\n",
              "1        2     300  0.0025       1.0\n",
              "2        3     100  0.0050       1.0\n",
              "3        4     150  0.0075       1.0\n",
              "4        5     150  0.0100       1.0\n",
              "5        6     100  0.0125       1.0\n",
              "6        7     200  0.0150       1.0\n",
              "7        8     200  0.0175       1.0\n",
              "8        9     200  0.0200       1.0\n",
              "9       10     300  0.0225       1.0\n",
              "10      11     150  0.0250       0.0\n",
              "11      12     300  0.0275       1.0\n",
              "12      13     100  0.0300       1.0\n",
              "13      14     100  0.0325       0.0\n",
              "14      15     200  0.0350       1.0\n",
              "15      16     300  0.0375       0.0\n",
              "16      17     200  0.0400       0.0\n",
              "17      18     150  0.0425       0.0\n",
              "18      19     150  0.0450       0.0\n",
              "19      20     150  0.0475       0.0\n",
              "20      21     100  0.0500       0.0"
            ]
          },
          "metadata": {
            "tags": []
          },
          "execution_count": 135
        }
      ]
    }
  ]
}